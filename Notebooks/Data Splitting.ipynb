{
 "cells": [
  {
   "cell_type": "code",
   "execution_count": 1,
   "id": "3c505183",
   "metadata": {},
   "outputs": [],
   "source": [
    "import pandas as pd"
   ]
  },
  {
   "cell_type": "code",
   "execution_count": 2,
   "id": "5ec613df",
   "metadata": {},
   "outputs": [
    {
     "data": {
      "text/plain": [
       "((1127785, 7), (906065, 7))"
      ]
     },
     "execution_count": 2,
     "metadata": {},
     "output_type": "execute_result"
    }
   ],
   "source": [
    "df_2022 = pd.read_csv(\"../DATA/prepared/INWI-22.csv\",index_col=0,parse_dates=[\"REPORT_DATE\"])\n",
    "df_2023 = pd.read_csv(\"../DATA/prepared/INWI-23.csv\",index_col=0,parse_dates=[\"REPORT_DATE\"])\n",
    "df_2022.shape,df_2023.shape"
   ]
  },
  {
   "cell_type": "markdown",
   "id": "09323452",
   "metadata": {},
   "source": [
    "## Fusing both of the dataFrames into one for splitting"
   ]
  },
  {
   "cell_type": "code",
   "execution_count": 16,
   "id": "dd8b3322",
   "metadata": {
    "scrolled": true
   },
   "outputs": [],
   "source": [
    "df = pd.concat([df_2022,df_2023])\n",
    "df.reset_index(drop=True,inplace=True)"
   ]
  },
  {
   "cell_type": "code",
   "execution_count": 17,
   "id": "f39310e4",
   "metadata": {},
   "outputs": [],
   "source": [
    "# Adding the *6 promotion check column\n",
    "stop_time_intervals = [\n",
    "    [\"2022-01-03\",\"2022-01-16\"],[\"2022-04-11\",\"2022-04-24\"],[\"2022-06-10\",\"2022-06-23\"],[\"2022-09-22\",\"2022-10-05\"] # Year 2022\n",
    "   ,[\"2023-01-04\",\"2023-01-07\"],[\"2023-04-03\",\"2023-04-16\"],[\"2023-06-01\",\"2023-06-14\"],[\"2023-11-18\",\"2023-12-01\"] # Year 2023\n",
    "]\n",
    "\n",
    "stop_time_intervals = [(pd.to_datetime(start), pd.to_datetime(end)) for start, end in stop_time_intervals]\n",
    "\n",
    "def is_not_in_promotion(date):\n",
    "    return all(not (start <= date <= end) for start, end in stop_time_intervals)\n",
    "\n",
    "df['IS_CODE6_ENABLED'] = df['REPORT_DATE'].apply(is_not_in_promotion)"
   ]
  },
  {
   "cell_type": "code",
   "execution_count": 19,
   "id": "edad8cc1",
   "metadata": {},
   "outputs": [],
   "source": [
    "# Determine the split index for 80% train and 20% test\n",
    "split_index = int(len(df) * 0.8)"
   ]
  },
  {
   "cell_type": "code",
   "execution_count": 20,
   "id": "4622807f",
   "metadata": {},
   "outputs": [
    {
     "data": {
      "text/plain": [
       "((1627080, 8), (406770, 8))"
      ]
     },
     "execution_count": 20,
     "metadata": {},
     "output_type": "execute_result"
    }
   ],
   "source": [
    "# Split the DataFrame\n",
    "df_train = df.iloc[:split_index]\n",
    "df_test = df.iloc[split_index:]\n",
    "df_train.shape,df_test.shape"
   ]
  },
  {
   "cell_type": "markdown",
   "id": "822d9278",
   "metadata": {},
   "source": [
    "## Creating a dataset that contains only the timestamp and revenue value"
   ]
  },
  {
   "cell_type": "code",
   "execution_count": 25,
   "id": "abe243d8",
   "metadata": {},
   "outputs": [],
   "source": [
    "grouped_df = df.groupby([\"REPORT_DATE\"]).agg({\n",
    "    \"REVENUE\":\"sum\",\n",
    "    \"IS_CODE6_ENABLED\":\"first\"\n",
    "}).reset_index()"
   ]
  },
  {
   "cell_type": "code",
   "execution_count": 26,
   "id": "48d8d646",
   "metadata": {},
   "outputs": [],
   "source": [
    "# Adding the necessary fields for timeseries forecasting\n",
    "grouped_df['TIMESTAMP_NUMERIC'] = pd.to_numeric(pd.to_datetime(grouped_df['REPORT_DATE']))\n",
    "\n",
    "grouped_df['DAY_OF_WEEK'] = pd.to_datetime(grouped_df['REPORT_DATE']).dt.dayofweek\n",
    "grouped_df['DAY_OF_MONTH'] = pd.to_datetime(grouped_df['REPORT_DATE']).dt.day\n",
    "grouped_df['DAY_OF_YEAR'] = pd.to_datetime(grouped_df['REPORT_DATE']).dt.day_of_year\n",
    "grouped_df['WEEK_OF_YEAR'] = pd.to_datetime(grouped_df['REPORT_DATE']).dt.isocalendar().week\n",
    "grouped_df['MONTH'] = pd.to_datetime(grouped_df['REPORT_DATE']).dt.month\n",
    "grouped_df['QUARTER'] = pd.to_datetime(grouped_df['REPORT_DATE']).dt.quarter\n",
    "grouped_df['YEAR'] = pd.to_datetime(grouped_df['REPORT_DATE']).dt.year\n",
    "\n",
    "grouped_df['ONE_DAY_LAG'] = grouped_df['REVENUE'].shift(1)  \n",
    "grouped_df['TWO_DAY_LAG'] = grouped_df['REVENUE'].shift(2)  \n",
    "grouped_df['ONE_WEEK_LAG'] = grouped_df['REVENUE'].shift(7)  \n",
    "grouped_df['ONE_MONTH_LAG'] = grouped_df['REVENUE'].shift(30)"
   ]
  },
  {
   "cell_type": "markdown",
   "id": "9d0ec7a4",
   "metadata": {},
   "source": [
    "## Defining the X for training and testing and y for training and testing"
   ]
  },
  {
   "cell_type": "code",
   "execution_count": 27,
   "id": "62465727",
   "metadata": {},
   "outputs": [],
   "source": [
    "split_index = int(len(grouped_df)*0.8)\n",
    "\n",
    "X_train = grouped_df.iloc[:split_index].drop(columns=['REVENUE']).values\n",
    "y_train = grouped_df.iloc[:split_index]['REVENUE'].values\n",
    "\n",
    "X_test = grouped_df.iloc[split_index:].drop(columns=['REVENUE']).values\n",
    "y_test = grouped_df.iloc[split_index:]['REVENUE'].values"
   ]
  }
 ],
 "metadata": {
  "kernelspec": {
   "display_name": "Python 3 (ipykernel)",
   "language": "python",
   "name": "python3"
  },
  "language_info": {
   "codemirror_mode": {
    "name": "ipython",
    "version": 3
   },
   "file_extension": ".py",
   "mimetype": "text/x-python",
   "name": "python",
   "nbconvert_exporter": "python",
   "pygments_lexer": "ipython3",
   "version": "3.11.5"
  }
 },
 "nbformat": 4,
 "nbformat_minor": 5
}
