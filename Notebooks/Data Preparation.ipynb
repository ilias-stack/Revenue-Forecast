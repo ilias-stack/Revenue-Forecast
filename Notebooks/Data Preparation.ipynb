{
 "cells": [
  {
   "cell_type": "code",
   "execution_count": 1,
   "id": "e90c2470",
   "metadata": {},
   "outputs": [],
   "source": [
    "import pandas as pd"
   ]
  },
  {
   "cell_type": "code",
   "execution_count": 2,
   "id": "ad3205b3",
   "metadata": {},
   "outputs": [
    {
     "name": "stdout",
     "output_type": "stream",
     "text": [
      "(611916, 8) (603585, 8) (977367, 8)\n"
     ]
    }
   ],
   "source": [
    "# Importing all the datasets\n",
    "df_s1_2022 = pd.read_csv(\"../DATA/initial/Recharge S1 2022_newnew.csv\")\n",
    "df_s2_2022 = pd.read_csv(\"../DATA/initial/Recharge S2 2022_newnew.csv\")\n",
    "df_2023 = pd.read_csv(\"../DATA/initial/Recharge 2023_newnew.csv\")\n",
    "\n",
    "print(df_s1_2022.shape,df_s2_2022.shape,df_2023.shape)"
   ]
  },
  {
   "cell_type": "markdown",
   "id": "97f1e9b2",
   "metadata": {},
   "source": [
    "## Processing the 'Recharge S1 2022_newnew' solely"
   ]
  },
  {
   "cell_type": "code",
   "execution_count": 3,
   "id": "cac35678",
   "metadata": {},
   "outputs": [
    {
     "data": {
      "text/html": [
       "<div>\n",
       "<style scoped>\n",
       "    .dataframe tbody tr th:only-of-type {\n",
       "        vertical-align: middle;\n",
       "    }\n",
       "\n",
       "    .dataframe tbody tr th {\n",
       "        vertical-align: top;\n",
       "    }\n",
       "\n",
       "    .dataframe thead th {\n",
       "        text-align: right;\n",
       "    }\n",
       "</style>\n",
       "<table border=\"1\" class=\"dataframe\">\n",
       "  <thead>\n",
       "    <tr style=\"text-align: right;\">\n",
       "      <th></th>\n",
       "      <th>ID</th>\n",
       "      <th>COUNT_IN_ID_mod</th>\n",
       "      <th>IN_DENOMINATIONS</th>\n",
       "      <th>IN_RECHARGE_TYPE</th>\n",
       "      <th>IN_SUBSCRIPTION_TYPE</th>\n",
       "      <th>IN_TRADETYPE</th>\n",
       "      <th>PROFIL_BIS</th>\n",
       "      <th>REPORT_DATE</th>\n",
       "    </tr>\n",
       "  </thead>\n",
       "  <tbody>\n",
       "    <tr>\n",
       "      <th>0</th>\n",
       "      <td>0</td>\n",
       "      <td>21</td>\n",
       "      <td>5</td>\n",
       "      <td>Others</td>\n",
       "      <td>-1</td>\n",
       "      <td>1002</td>\n",
       "      <td>2015</td>\n",
       "      <td>2022-01-01 01:00:00</td>\n",
       "    </tr>\n",
       "    <tr>\n",
       "      <th>1</th>\n",
       "      <td>1</td>\n",
       "      <td>971</td>\n",
       "      <td>10</td>\n",
       "      <td>Others</td>\n",
       "      <td>-1</td>\n",
       "      <td>1002</td>\n",
       "      <td>2015</td>\n",
       "      <td>2022-01-01 01:00:00</td>\n",
       "    </tr>\n",
       "    <tr>\n",
       "      <th>2</th>\n",
       "      <td>2</td>\n",
       "      <td>546</td>\n",
       "      <td>20</td>\n",
       "      <td>Others</td>\n",
       "      <td>-1</td>\n",
       "      <td>1002</td>\n",
       "      <td>2015</td>\n",
       "      <td>2022-01-01 01:00:00</td>\n",
       "    </tr>\n",
       "    <tr>\n",
       "      <th>3</th>\n",
       "      <td>3</td>\n",
       "      <td>11</td>\n",
       "      <td>25</td>\n",
       "      <td>Others</td>\n",
       "      <td>-1</td>\n",
       "      <td>1002</td>\n",
       "      <td>2015</td>\n",
       "      <td>2022-01-01 01:00:00</td>\n",
       "    </tr>\n",
       "    <tr>\n",
       "      <th>4</th>\n",
       "      <td>4</td>\n",
       "      <td>96</td>\n",
       "      <td>30</td>\n",
       "      <td>Others</td>\n",
       "      <td>-1</td>\n",
       "      <td>1002</td>\n",
       "      <td>2015</td>\n",
       "      <td>2022-01-01 01:00:00</td>\n",
       "    </tr>\n",
       "  </tbody>\n",
       "</table>\n",
       "</div>"
      ],
      "text/plain": [
       "   ID  COUNT_IN_ID_mod  IN_DENOMINATIONS IN_RECHARGE_TYPE  \\\n",
       "0   0               21                 5           Others   \n",
       "1   1              971                10           Others   \n",
       "2   2              546                20           Others   \n",
       "3   3               11                25           Others   \n",
       "4   4               96                30           Others   \n",
       "\n",
       "   IN_SUBSCRIPTION_TYPE  IN_TRADETYPE  PROFIL_BIS          REPORT_DATE  \n",
       "0                    -1          1002        2015  2022-01-01 01:00:00  \n",
       "1                    -1          1002        2015  2022-01-01 01:00:00  \n",
       "2                    -1          1002        2015  2022-01-01 01:00:00  \n",
       "3                    -1          1002        2015  2022-01-01 01:00:00  \n",
       "4                    -1          1002        2015  2022-01-01 01:00:00  "
      ]
     },
     "execution_count": 3,
     "metadata": {},
     "output_type": "execute_result"
    }
   ],
   "source": [
    "df_s1_2022.head()"
   ]
  },
  {
   "cell_type": "code",
   "execution_count": 4,
   "id": "f7db4226",
   "metadata": {
    "scrolled": true
   },
   "outputs": [
    {
     "data": {
      "text/plain": [
       "ID                       int64\n",
       "COUNT_IN_ID_mod          int64\n",
       "IN_DENOMINATIONS         int64\n",
       "IN_RECHARGE_TYPE        object\n",
       "IN_SUBSCRIPTION_TYPE     int64\n",
       "IN_TRADETYPE             int64\n",
       "PROFIL_BIS               int64\n",
       "REPORT_DATE             object\n",
       "dtype: object"
      ]
     },
     "execution_count": 4,
     "metadata": {},
     "output_type": "execute_result"
    }
   ],
   "source": [
    "# Exploring the datatypes of each column\n",
    "df_s1_2022.dtypes"
   ]
  },
  {
   "cell_type": "code",
   "execution_count": 5,
   "id": "29ee8c53",
   "metadata": {},
   "outputs": [
    {
     "data": {
      "text/plain": [
       "ID                      0\n",
       "COUNT_IN_ID_mod         0\n",
       "IN_DENOMINATIONS        0\n",
       "IN_RECHARGE_TYPE        0\n",
       "IN_SUBSCRIPTION_TYPE    0\n",
       "IN_TRADETYPE            0\n",
       "PROFIL_BIS              0\n",
       "REPORT_DATE             0\n",
       "dtype: int64"
      ]
     },
     "execution_count": 5,
     "metadata": {},
     "output_type": "execute_result"
    }
   ],
   "source": [
    "# Seeing the rows that have empty values\n",
    "df_s1_2022.isna().sum()"
   ]
  },
  {
   "cell_type": "code",
   "execution_count": 6,
   "id": "95d11387",
   "metadata": {},
   "outputs": [
    {
     "name": "stdout",
     "output_type": "stream",
     "text": [
      "Before cleansing shape was (611916, 8)\n",
      "After cleansing shape was (611916, 6)\n"
     ]
    }
   ],
   "source": [
    "# Deleting unnecessary data\n",
    "print(\"Before cleansing shape was\",df_s1_2022.shape)\n",
    "df_s1_2022.dropna(inplace=True)\n",
    "# To delete the IN_TRADETYPE that is equivalent to IN_RECHARGE_TYPE\n",
    "df_s1_2022.drop([\"IN_TRADETYPE\"], axis = 1, inplace = True) \n",
    "df_s1_2022.drop([\"ID\"], axis = 1, inplace = True) \n",
    "print(\"After cleansing shape was\",df_s1_2022.shape)"
   ]
  },
  {
   "cell_type": "code",
   "execution_count": 7,
   "id": "67d75e1c",
   "metadata": {},
   "outputs": [
    {
     "data": {
      "text/html": [
       "<div>\n",
       "<style scoped>\n",
       "    .dataframe tbody tr th:only-of-type {\n",
       "        vertical-align: middle;\n",
       "    }\n",
       "\n",
       "    .dataframe tbody tr th {\n",
       "        vertical-align: top;\n",
       "    }\n",
       "\n",
       "    .dataframe thead th {\n",
       "        text-align: right;\n",
       "    }\n",
       "</style>\n",
       "<table border=\"1\" class=\"dataframe\">\n",
       "  <thead>\n",
       "    <tr style=\"text-align: right;\">\n",
       "      <th></th>\n",
       "      <th>COUNT_IN_ID_mod</th>\n",
       "      <th>IN_DENOMINATIONS</th>\n",
       "      <th>IN_RECHARGE_TYPE</th>\n",
       "      <th>IN_SUBSCRIPTION_TYPE</th>\n",
       "      <th>PROFIL_BIS</th>\n",
       "      <th>REPORT_DATE</th>\n",
       "    </tr>\n",
       "  </thead>\n",
       "  <tbody>\n",
       "    <tr>\n",
       "      <th>0</th>\n",
       "      <td>21</td>\n",
       "      <td>5</td>\n",
       "      <td>Others</td>\n",
       "      <td>-1</td>\n",
       "      <td>2015</td>\n",
       "      <td>2022-01-01</td>\n",
       "    </tr>\n",
       "    <tr>\n",
       "      <th>1</th>\n",
       "      <td>971</td>\n",
       "      <td>10</td>\n",
       "      <td>Others</td>\n",
       "      <td>-1</td>\n",
       "      <td>2015</td>\n",
       "      <td>2022-01-01</td>\n",
       "    </tr>\n",
       "    <tr>\n",
       "      <th>2</th>\n",
       "      <td>546</td>\n",
       "      <td>20</td>\n",
       "      <td>Others</td>\n",
       "      <td>-1</td>\n",
       "      <td>2015</td>\n",
       "      <td>2022-01-01</td>\n",
       "    </tr>\n",
       "    <tr>\n",
       "      <th>3</th>\n",
       "      <td>11</td>\n",
       "      <td>25</td>\n",
       "      <td>Others</td>\n",
       "      <td>-1</td>\n",
       "      <td>2015</td>\n",
       "      <td>2022-01-01</td>\n",
       "    </tr>\n",
       "    <tr>\n",
       "      <th>4</th>\n",
       "      <td>96</td>\n",
       "      <td>30</td>\n",
       "      <td>Others</td>\n",
       "      <td>-1</td>\n",
       "      <td>2015</td>\n",
       "      <td>2022-01-01</td>\n",
       "    </tr>\n",
       "  </tbody>\n",
       "</table>\n",
       "</div>"
      ],
      "text/plain": [
       "   COUNT_IN_ID_mod  IN_DENOMINATIONS IN_RECHARGE_TYPE  IN_SUBSCRIPTION_TYPE  \\\n",
       "0               21                 5           Others                    -1   \n",
       "1              971                10           Others                    -1   \n",
       "2              546                20           Others                    -1   \n",
       "3               11                25           Others                    -1   \n",
       "4               96                30           Others                    -1   \n",
       "\n",
       "   PROFIL_BIS REPORT_DATE  \n",
       "0        2015  2022-01-01  \n",
       "1        2015  2022-01-01  \n",
       "2        2015  2022-01-01  \n",
       "3        2015  2022-01-01  \n",
       "4        2015  2022-01-01  "
      ]
     },
     "execution_count": 7,
     "metadata": {},
     "output_type": "execute_result"
    }
   ],
   "source": [
    "# Fixing the date column \n",
    "df_s1_2022[\"REPORT_DATE\"] = pd.to_datetime(df_s1_2022[\"REPORT_DATE\"])\n",
    "df_s1_2022[\"REPORT_DATE\"] = df_s1_2022[\"REPORT_DATE\"].dt.date\n",
    "\n",
    "df_s1_2022.head()"
   ]
  },
  {
   "cell_type": "markdown",
   "id": "9db37b9d",
   "metadata": {},
   "source": [
    "## Processing the 'Recharge S2 2022_newnew' solely"
   ]
  },
  {
   "cell_type": "code",
   "execution_count": 8,
   "id": "b7937ca9",
   "metadata": {},
   "outputs": [
    {
     "data": {
      "text/html": [
       "<div>\n",
       "<style scoped>\n",
       "    .dataframe tbody tr th:only-of-type {\n",
       "        vertical-align: middle;\n",
       "    }\n",
       "\n",
       "    .dataframe tbody tr th {\n",
       "        vertical-align: top;\n",
       "    }\n",
       "\n",
       "    .dataframe thead th {\n",
       "        text-align: right;\n",
       "    }\n",
       "</style>\n",
       "<table border=\"1\" class=\"dataframe\">\n",
       "  <thead>\n",
       "    <tr style=\"text-align: right;\">\n",
       "      <th></th>\n",
       "      <th>ID</th>\n",
       "      <th>COUNT_IN_ID_mod</th>\n",
       "      <th>IN_DENOMINATIONS</th>\n",
       "      <th>IN_RECHARGE_TYPE</th>\n",
       "      <th>IN_SUBSCRIPTION_TYPE</th>\n",
       "      <th>IN_TRADETYPE</th>\n",
       "      <th>PROFIL_BIS</th>\n",
       "      <th>REPORT_DATE</th>\n",
       "    </tr>\n",
       "  </thead>\n",
       "  <tbody>\n",
       "    <tr>\n",
       "      <th>0</th>\n",
       "      <td>0</td>\n",
       "      <td>6</td>\n",
       "      <td>5</td>\n",
       "      <td>Others</td>\n",
       "      <td>-1.0</td>\n",
       "      <td>1002</td>\n",
       "      <td>2015</td>\n",
       "      <td>2022-07-01 01:00:00</td>\n",
       "    </tr>\n",
       "    <tr>\n",
       "      <th>1</th>\n",
       "      <td>1</td>\n",
       "      <td>931</td>\n",
       "      <td>10</td>\n",
       "      <td>Others</td>\n",
       "      <td>-1.0</td>\n",
       "      <td>1002</td>\n",
       "      <td>2015</td>\n",
       "      <td>2022-07-01 01:00:00</td>\n",
       "    </tr>\n",
       "    <tr>\n",
       "      <th>2</th>\n",
       "      <td>2</td>\n",
       "      <td>406</td>\n",
       "      <td>20</td>\n",
       "      <td>Others</td>\n",
       "      <td>-1.0</td>\n",
       "      <td>1002</td>\n",
       "      <td>2015</td>\n",
       "      <td>2022-07-01 01:00:00</td>\n",
       "    </tr>\n",
       "    <tr>\n",
       "      <th>3</th>\n",
       "      <td>3</td>\n",
       "      <td>16</td>\n",
       "      <td>25</td>\n",
       "      <td>Others</td>\n",
       "      <td>-1.0</td>\n",
       "      <td>1002</td>\n",
       "      <td>2015</td>\n",
       "      <td>2022-07-01 01:00:00</td>\n",
       "    </tr>\n",
       "    <tr>\n",
       "      <th>4</th>\n",
       "      <td>4</td>\n",
       "      <td>36</td>\n",
       "      <td>30</td>\n",
       "      <td>Others</td>\n",
       "      <td>-1.0</td>\n",
       "      <td>1002</td>\n",
       "      <td>2015</td>\n",
       "      <td>2022-07-01 01:00:00</td>\n",
       "    </tr>\n",
       "  </tbody>\n",
       "</table>\n",
       "</div>"
      ],
      "text/plain": [
       "   ID  COUNT_IN_ID_mod  IN_DENOMINATIONS IN_RECHARGE_TYPE  \\\n",
       "0   0                6                 5           Others   \n",
       "1   1              931                10           Others   \n",
       "2   2              406                20           Others   \n",
       "3   3               16                25           Others   \n",
       "4   4               36                30           Others   \n",
       "\n",
       "   IN_SUBSCRIPTION_TYPE  IN_TRADETYPE  PROFIL_BIS          REPORT_DATE  \n",
       "0                  -1.0          1002        2015  2022-07-01 01:00:00  \n",
       "1                  -1.0          1002        2015  2022-07-01 01:00:00  \n",
       "2                  -1.0          1002        2015  2022-07-01 01:00:00  \n",
       "3                  -1.0          1002        2015  2022-07-01 01:00:00  \n",
       "4                  -1.0          1002        2015  2022-07-01 01:00:00  "
      ]
     },
     "execution_count": 8,
     "metadata": {},
     "output_type": "execute_result"
    }
   ],
   "source": [
    "df_s2_2022.head()"
   ]
  },
  {
   "cell_type": "code",
   "execution_count": 9,
   "id": "48556f5a",
   "metadata": {
    "scrolled": true
   },
   "outputs": [
    {
     "data": {
      "text/plain": [
       "ID                        int64\n",
       "COUNT_IN_ID_mod           int64\n",
       "IN_DENOMINATIONS          int64\n",
       "IN_RECHARGE_TYPE         object\n",
       "IN_SUBSCRIPTION_TYPE    float64\n",
       "IN_TRADETYPE              int64\n",
       "PROFIL_BIS                int64\n",
       "REPORT_DATE              object\n",
       "dtype: object"
      ]
     },
     "execution_count": 9,
     "metadata": {},
     "output_type": "execute_result"
    }
   ],
   "source": [
    "# Exploring the datatypes of each column\n",
    "df_s2_2022.dtypes"
   ]
  },
  {
   "cell_type": "code",
   "execution_count": 10,
   "id": "b85ee775",
   "metadata": {},
   "outputs": [
    {
     "data": {
      "text/plain": [
       "ID                       0\n",
       "COUNT_IN_ID_mod          0\n",
       "IN_DENOMINATIONS         0\n",
       "IN_RECHARGE_TYPE         0\n",
       "IN_SUBSCRIPTION_TYPE    21\n",
       "IN_TRADETYPE             0\n",
       "PROFIL_BIS               0\n",
       "REPORT_DATE              0\n",
       "dtype: int64"
      ]
     },
     "execution_count": 10,
     "metadata": {},
     "output_type": "execute_result"
    }
   ],
   "source": [
    "# Seeing the rows that have empty values\n",
    "df_s2_2022.isna().sum()"
   ]
  },
  {
   "cell_type": "code",
   "execution_count": 11,
   "id": "a4e8d4fb",
   "metadata": {},
   "outputs": [
    {
     "name": "stdout",
     "output_type": "stream",
     "text": [
      "Before cleansing shape was (603585, 8)\n",
      "After cleansing shape was (603564, 6)\n"
     ]
    }
   ],
   "source": [
    "# Deleting unnecessary data\n",
    "print(\"Before cleansing shape was\",df_s2_2022.shape)\n",
    "df_s2_2022.dropna(inplace=True)\n",
    "# To delete the IN_TRADETYPE that is equivalent to IN_RECHARGE_TYPE\n",
    "df_s2_2022.drop([\"IN_TRADETYPE\"], axis = 1, inplace = True) \n",
    "df_s2_2022.drop([\"ID\"], axis = 1, inplace = True) \n",
    "print(\"After cleansing shape was\",df_s2_2022.shape)"
   ]
  },
  {
   "cell_type": "code",
   "execution_count": 12,
   "id": "00290231",
   "metadata": {},
   "outputs": [],
   "source": [
    "# Changing the type of IN_SUBSCRIPTION_TYPE to int to avoid future conflicts\n",
    "df_s2_2022[\"IN_SUBSCRIPTION_TYPE\"] = df_s2_2022[\"IN_SUBSCRIPTION_TYPE\"].astype(\"int64\")"
   ]
  },
  {
   "cell_type": "code",
   "execution_count": 13,
   "id": "e1c54c77",
   "metadata": {
    "scrolled": true
   },
   "outputs": [
    {
     "data": {
      "text/html": [
       "<div>\n",
       "<style scoped>\n",
       "    .dataframe tbody tr th:only-of-type {\n",
       "        vertical-align: middle;\n",
       "    }\n",
       "\n",
       "    .dataframe tbody tr th {\n",
       "        vertical-align: top;\n",
       "    }\n",
       "\n",
       "    .dataframe thead th {\n",
       "        text-align: right;\n",
       "    }\n",
       "</style>\n",
       "<table border=\"1\" class=\"dataframe\">\n",
       "  <thead>\n",
       "    <tr style=\"text-align: right;\">\n",
       "      <th></th>\n",
       "      <th>COUNT_IN_ID_mod</th>\n",
       "      <th>IN_DENOMINATIONS</th>\n",
       "      <th>IN_RECHARGE_TYPE</th>\n",
       "      <th>IN_SUBSCRIPTION_TYPE</th>\n",
       "      <th>PROFIL_BIS</th>\n",
       "      <th>REPORT_DATE</th>\n",
       "    </tr>\n",
       "  </thead>\n",
       "  <tbody>\n",
       "    <tr>\n",
       "      <th>0</th>\n",
       "      <td>6</td>\n",
       "      <td>5</td>\n",
       "      <td>Others</td>\n",
       "      <td>-1</td>\n",
       "      <td>2015</td>\n",
       "      <td>2022-07-01</td>\n",
       "    </tr>\n",
       "    <tr>\n",
       "      <th>1</th>\n",
       "      <td>931</td>\n",
       "      <td>10</td>\n",
       "      <td>Others</td>\n",
       "      <td>-1</td>\n",
       "      <td>2015</td>\n",
       "      <td>2022-07-01</td>\n",
       "    </tr>\n",
       "    <tr>\n",
       "      <th>2</th>\n",
       "      <td>406</td>\n",
       "      <td>20</td>\n",
       "      <td>Others</td>\n",
       "      <td>-1</td>\n",
       "      <td>2015</td>\n",
       "      <td>2022-07-01</td>\n",
       "    </tr>\n",
       "    <tr>\n",
       "      <th>3</th>\n",
       "      <td>16</td>\n",
       "      <td>25</td>\n",
       "      <td>Others</td>\n",
       "      <td>-1</td>\n",
       "      <td>2015</td>\n",
       "      <td>2022-07-01</td>\n",
       "    </tr>\n",
       "    <tr>\n",
       "      <th>4</th>\n",
       "      <td>36</td>\n",
       "      <td>30</td>\n",
       "      <td>Others</td>\n",
       "      <td>-1</td>\n",
       "      <td>2015</td>\n",
       "      <td>2022-07-01</td>\n",
       "    </tr>\n",
       "  </tbody>\n",
       "</table>\n",
       "</div>"
      ],
      "text/plain": [
       "   COUNT_IN_ID_mod  IN_DENOMINATIONS IN_RECHARGE_TYPE  IN_SUBSCRIPTION_TYPE  \\\n",
       "0                6                 5           Others                    -1   \n",
       "1              931                10           Others                    -1   \n",
       "2              406                20           Others                    -1   \n",
       "3               16                25           Others                    -1   \n",
       "4               36                30           Others                    -1   \n",
       "\n",
       "   PROFIL_BIS REPORT_DATE  \n",
       "0        2015  2022-07-01  \n",
       "1        2015  2022-07-01  \n",
       "2        2015  2022-07-01  \n",
       "3        2015  2022-07-01  \n",
       "4        2015  2022-07-01  "
      ]
     },
     "execution_count": 13,
     "metadata": {},
     "output_type": "execute_result"
    }
   ],
   "source": [
    "# Fixing the date column \n",
    "df_s2_2022[\"REPORT_DATE\"] = pd.to_datetime(df_s2_2022[\"REPORT_DATE\"])\n",
    "df_s2_2022[\"REPORT_DATE\"] = df_s2_2022[\"REPORT_DATE\"].dt.date\n",
    "\n",
    "df_s2_2022.head()"
   ]
  },
  {
   "cell_type": "markdown",
   "id": "46f5d825",
   "metadata": {},
   "source": [
    "## Processing the 'Recharge 2023_newnew' solely"
   ]
  },
  {
   "cell_type": "code",
   "execution_count": 14,
   "id": "0b34e856",
   "metadata": {},
   "outputs": [
    {
     "data": {
      "text/html": [
       "<div>\n",
       "<style scoped>\n",
       "    .dataframe tbody tr th:only-of-type {\n",
       "        vertical-align: middle;\n",
       "    }\n",
       "\n",
       "    .dataframe tbody tr th {\n",
       "        vertical-align: top;\n",
       "    }\n",
       "\n",
       "    .dataframe thead th {\n",
       "        text-align: right;\n",
       "    }\n",
       "</style>\n",
       "<table border=\"1\" class=\"dataframe\">\n",
       "  <thead>\n",
       "    <tr style=\"text-align: right;\">\n",
       "      <th></th>\n",
       "      <th>ID</th>\n",
       "      <th>COUNT_IN_ID_mod</th>\n",
       "      <th>IN_DENOMINATIONS</th>\n",
       "      <th>IN_RECHARGE_TYPE</th>\n",
       "      <th>IN_SUBSCRIPTION_TYPE</th>\n",
       "      <th>IN_TRADETYPE</th>\n",
       "      <th>PROFIL_BIS</th>\n",
       "      <th>REPORT_DATE</th>\n",
       "    </tr>\n",
       "  </thead>\n",
       "  <tbody>\n",
       "    <tr>\n",
       "      <th>15762</th>\n",
       "      <td>15762</td>\n",
       "      <td>51</td>\n",
       "      <td>30</td>\n",
       "      <td>PWC</td>\n",
       "      <td>3</td>\n",
       "      <td>1002</td>\n",
       "      <td>86907</td>\n",
       "      <td>2023-01-07 01:00:00</td>\n",
       "    </tr>\n",
       "    <tr>\n",
       "      <th>703951</th>\n",
       "      <td>703951</td>\n",
       "      <td>1436</td>\n",
       "      <td>5</td>\n",
       "      <td>SC Recharge</td>\n",
       "      <td>2</td>\n",
       "      <td>7</td>\n",
       "      <td>5292</td>\n",
       "      <td>2023-09-19 01:00:00</td>\n",
       "    </tr>\n",
       "    <tr>\n",
       "      <th>353675</th>\n",
       "      <td>353675</td>\n",
       "      <td>1</td>\n",
       "      <td>100</td>\n",
       "      <td>Rel</td>\n",
       "      <td>-1</td>\n",
       "      <td>1013</td>\n",
       "      <td>88973</td>\n",
       "      <td>2023-05-12 01:00:00</td>\n",
       "    </tr>\n",
       "    <tr>\n",
       "      <th>689307</th>\n",
       "      <td>689307</td>\n",
       "      <td>15636</td>\n",
       "      <td>10</td>\n",
       "      <td>PWC</td>\n",
       "      <td>2</td>\n",
       "      <td>1002</td>\n",
       "      <td>5291</td>\n",
       "      <td>2023-09-14 01:00:00</td>\n",
       "    </tr>\n",
       "    <tr>\n",
       "      <th>946255</th>\n",
       "      <td>946255</td>\n",
       "      <td>4496</td>\n",
       "      <td>20</td>\n",
       "      <td>Dealer</td>\n",
       "      <td>6</td>\n",
       "      <td>999</td>\n",
       "      <td>84001</td>\n",
       "      <td>2023-12-20 01:00:00</td>\n",
       "    </tr>\n",
       "  </tbody>\n",
       "</table>\n",
       "</div>"
      ],
      "text/plain": [
       "            ID  COUNT_IN_ID_mod  IN_DENOMINATIONS IN_RECHARGE_TYPE  \\\n",
       "15762    15762               51                30              PWC   \n",
       "703951  703951             1436                 5      SC Recharge   \n",
       "353675  353675                1               100              Rel   \n",
       "689307  689307            15636                10              PWC   \n",
       "946255  946255             4496                20           Dealer   \n",
       "\n",
       "        IN_SUBSCRIPTION_TYPE  IN_TRADETYPE  PROFIL_BIS          REPORT_DATE  \n",
       "15762                      3          1002       86907  2023-01-07 01:00:00  \n",
       "703951                     2             7        5292  2023-09-19 01:00:00  \n",
       "353675                    -1          1013       88973  2023-05-12 01:00:00  \n",
       "689307                     2          1002        5291  2023-09-14 01:00:00  \n",
       "946255                     6           999       84001  2023-12-20 01:00:00  "
      ]
     },
     "execution_count": 14,
     "metadata": {},
     "output_type": "execute_result"
    }
   ],
   "source": [
    "df_2023.sample(n=5)"
   ]
  },
  {
   "cell_type": "code",
   "execution_count": 15,
   "id": "ab8fb47d",
   "metadata": {
    "scrolled": true
   },
   "outputs": [
    {
     "data": {
      "text/plain": [
       "ID                       int64\n",
       "COUNT_IN_ID_mod          int64\n",
       "IN_DENOMINATIONS         int64\n",
       "IN_RECHARGE_TYPE        object\n",
       "IN_SUBSCRIPTION_TYPE     int64\n",
       "IN_TRADETYPE             int64\n",
       "PROFIL_BIS               int64\n",
       "REPORT_DATE             object\n",
       "dtype: object"
      ]
     },
     "execution_count": 15,
     "metadata": {},
     "output_type": "execute_result"
    }
   ],
   "source": [
    "# Exploring the datatypes of each column\n",
    "df_2023.dtypes"
   ]
  },
  {
   "cell_type": "code",
   "execution_count": 16,
   "id": "fd42d228",
   "metadata": {},
   "outputs": [
    {
     "data": {
      "text/plain": [
       "ID                      0\n",
       "COUNT_IN_ID_mod         0\n",
       "IN_DENOMINATIONS        0\n",
       "IN_RECHARGE_TYPE        0\n",
       "IN_SUBSCRIPTION_TYPE    0\n",
       "IN_TRADETYPE            0\n",
       "PROFIL_BIS              0\n",
       "REPORT_DATE             0\n",
       "dtype: int64"
      ]
     },
     "execution_count": 16,
     "metadata": {},
     "output_type": "execute_result"
    }
   ],
   "source": [
    "# Seeing the rows that have empty values\n",
    "df_2023.isna().sum()"
   ]
  },
  {
   "cell_type": "code",
   "execution_count": 17,
   "id": "96e73f81",
   "metadata": {},
   "outputs": [
    {
     "name": "stdout",
     "output_type": "stream",
     "text": [
      "Before cleansing shape was (977367, 8)\n",
      "After cleansing shape was (977367, 6)\n"
     ]
    }
   ],
   "source": [
    "# Deleting unnecessary data\n",
    "print(\"Before cleansing shape was\",df_2023.shape)\n",
    "df_2023.dropna(inplace=True)\n",
    "# To delete the IN_TRADETYPE that is equivalent to IN_RECHARGE_TYPE\n",
    "df_2023.drop([\"IN_TRADETYPE\"], axis = 1, inplace = True) \n",
    "df_2023.drop([\"ID\"], axis = 1, inplace = True) \n",
    "print(\"After cleansing shape was\",df_2023.shape)"
   ]
  },
  {
   "cell_type": "code",
   "execution_count": 18,
   "id": "6dc6ebaf",
   "metadata": {
    "scrolled": true
   },
   "outputs": [
    {
     "data": {
      "text/html": [
       "<div>\n",
       "<style scoped>\n",
       "    .dataframe tbody tr th:only-of-type {\n",
       "        vertical-align: middle;\n",
       "    }\n",
       "\n",
       "    .dataframe tbody tr th {\n",
       "        vertical-align: top;\n",
       "    }\n",
       "\n",
       "    .dataframe thead th {\n",
       "        text-align: right;\n",
       "    }\n",
       "</style>\n",
       "<table border=\"1\" class=\"dataframe\">\n",
       "  <thead>\n",
       "    <tr style=\"text-align: right;\">\n",
       "      <th></th>\n",
       "      <th>COUNT_IN_ID_mod</th>\n",
       "      <th>IN_DENOMINATIONS</th>\n",
       "      <th>IN_RECHARGE_TYPE</th>\n",
       "      <th>IN_SUBSCRIPTION_TYPE</th>\n",
       "      <th>PROFIL_BIS</th>\n",
       "      <th>REPORT_DATE</th>\n",
       "    </tr>\n",
       "  </thead>\n",
       "  <tbody>\n",
       "    <tr>\n",
       "      <th>0</th>\n",
       "      <td>6</td>\n",
       "      <td>5</td>\n",
       "      <td>PWC</td>\n",
       "      <td>-1</td>\n",
       "      <td>2015</td>\n",
       "      <td>2023-01-01</td>\n",
       "    </tr>\n",
       "    <tr>\n",
       "      <th>1</th>\n",
       "      <td>946</td>\n",
       "      <td>10</td>\n",
       "      <td>PWC</td>\n",
       "      <td>-1</td>\n",
       "      <td>2015</td>\n",
       "      <td>2023-01-01</td>\n",
       "    </tr>\n",
       "    <tr>\n",
       "      <th>2</th>\n",
       "      <td>411</td>\n",
       "      <td>20</td>\n",
       "      <td>PWC</td>\n",
       "      <td>-1</td>\n",
       "      <td>2015</td>\n",
       "      <td>2023-01-01</td>\n",
       "    </tr>\n",
       "    <tr>\n",
       "      <th>3</th>\n",
       "      <td>21</td>\n",
       "      <td>25</td>\n",
       "      <td>PWC</td>\n",
       "      <td>-1</td>\n",
       "      <td>2015</td>\n",
       "      <td>2023-01-01</td>\n",
       "    </tr>\n",
       "    <tr>\n",
       "      <th>4</th>\n",
       "      <td>51</td>\n",
       "      <td>30</td>\n",
       "      <td>PWC</td>\n",
       "      <td>-1</td>\n",
       "      <td>2015</td>\n",
       "      <td>2023-01-01</td>\n",
       "    </tr>\n",
       "  </tbody>\n",
       "</table>\n",
       "</div>"
      ],
      "text/plain": [
       "   COUNT_IN_ID_mod  IN_DENOMINATIONS IN_RECHARGE_TYPE  IN_SUBSCRIPTION_TYPE  \\\n",
       "0                6                 5              PWC                    -1   \n",
       "1              946                10              PWC                    -1   \n",
       "2              411                20              PWC                    -1   \n",
       "3               21                25              PWC                    -1   \n",
       "4               51                30              PWC                    -1   \n",
       "\n",
       "   PROFIL_BIS REPORT_DATE  \n",
       "0        2015  2023-01-01  \n",
       "1        2015  2023-01-01  \n",
       "2        2015  2023-01-01  \n",
       "3        2015  2023-01-01  \n",
       "4        2015  2023-01-01  "
      ]
     },
     "execution_count": 18,
     "metadata": {},
     "output_type": "execute_result"
    }
   ],
   "source": [
    "# Fixing the date column \n",
    "df_2023[\"REPORT_DATE\"] = pd.to_datetime(df_2023[\"REPORT_DATE\"])\n",
    "df_2023[\"REPORT_DATE\"] = df_2023[\"REPORT_DATE\"].dt.date\n",
    "\n",
    "df_2023.head()"
   ]
  },
  {
   "cell_type": "markdown",
   "id": "36b08507",
   "metadata": {},
   "source": [
    "### Fusing the 2022 dataframes"
   ]
  },
  {
   "cell_type": "code",
   "execution_count": 19,
   "id": "d61b5328",
   "metadata": {
    "scrolled": true
   },
   "outputs": [
    {
     "data": {
      "text/html": [
       "<div>\n",
       "<style scoped>\n",
       "    .dataframe tbody tr th:only-of-type {\n",
       "        vertical-align: middle;\n",
       "    }\n",
       "\n",
       "    .dataframe tbody tr th {\n",
       "        vertical-align: top;\n",
       "    }\n",
       "\n",
       "    .dataframe thead th {\n",
       "        text-align: right;\n",
       "    }\n",
       "</style>\n",
       "<table border=\"1\" class=\"dataframe\">\n",
       "  <thead>\n",
       "    <tr style=\"text-align: right;\">\n",
       "      <th></th>\n",
       "      <th>COUNT_IN_ID_mod</th>\n",
       "      <th>IN_DENOMINATIONS</th>\n",
       "      <th>IN_RECHARGE_TYPE</th>\n",
       "      <th>IN_SUBSCRIPTION_TYPE</th>\n",
       "      <th>PROFIL_BIS</th>\n",
       "      <th>REPORT_DATE</th>\n",
       "    </tr>\n",
       "  </thead>\n",
       "  <tbody>\n",
       "    <tr>\n",
       "      <th>0</th>\n",
       "      <td>21</td>\n",
       "      <td>5</td>\n",
       "      <td>Others</td>\n",
       "      <td>-1</td>\n",
       "      <td>2015</td>\n",
       "      <td>2022-01-01</td>\n",
       "    </tr>\n",
       "    <tr>\n",
       "      <th>1</th>\n",
       "      <td>971</td>\n",
       "      <td>10</td>\n",
       "      <td>Others</td>\n",
       "      <td>-1</td>\n",
       "      <td>2015</td>\n",
       "      <td>2022-01-01</td>\n",
       "    </tr>\n",
       "    <tr>\n",
       "      <th>2</th>\n",
       "      <td>546</td>\n",
       "      <td>20</td>\n",
       "      <td>Others</td>\n",
       "      <td>-1</td>\n",
       "      <td>2015</td>\n",
       "      <td>2022-01-01</td>\n",
       "    </tr>\n",
       "    <tr>\n",
       "      <th>3</th>\n",
       "      <td>11</td>\n",
       "      <td>25</td>\n",
       "      <td>Others</td>\n",
       "      <td>-1</td>\n",
       "      <td>2015</td>\n",
       "      <td>2022-01-01</td>\n",
       "    </tr>\n",
       "    <tr>\n",
       "      <th>4</th>\n",
       "      <td>96</td>\n",
       "      <td>30</td>\n",
       "      <td>Others</td>\n",
       "      <td>-1</td>\n",
       "      <td>2015</td>\n",
       "      <td>2022-01-01</td>\n",
       "    </tr>\n",
       "  </tbody>\n",
       "</table>\n",
       "</div>"
      ],
      "text/plain": [
       "   COUNT_IN_ID_mod  IN_DENOMINATIONS IN_RECHARGE_TYPE  IN_SUBSCRIPTION_TYPE  \\\n",
       "0               21                 5           Others                    -1   \n",
       "1              971                10           Others                    -1   \n",
       "2              546                20           Others                    -1   \n",
       "3               11                25           Others                    -1   \n",
       "4               96                30           Others                    -1   \n",
       "\n",
       "   PROFIL_BIS REPORT_DATE  \n",
       "0        2015  2022-01-01  \n",
       "1        2015  2022-01-01  \n",
       "2        2015  2022-01-01  \n",
       "3        2015  2022-01-01  \n",
       "4        2015  2022-01-01  "
      ]
     },
     "execution_count": 19,
     "metadata": {},
     "output_type": "execute_result"
    }
   ],
   "source": [
    "df_2022 =  pd.concat([df_s1_2022,df_s2_2022],ignore_index=True)\n",
    "df_2022.head()"
   ]
  },
  {
   "cell_type": "markdown",
   "id": "77fe12a3",
   "metadata": {},
   "source": [
    "## Adding the product column that is COUNT_IN_ID_mod * IN_DENOMINATIONS"
   ]
  },
  {
   "cell_type": "code",
   "execution_count": 20,
   "id": "7ae195aa",
   "metadata": {},
   "outputs": [],
   "source": [
    "df_2022[\"REVENUE\"] = df_2022[\"COUNT_IN_ID_mod\"]*df_2022[\"IN_DENOMINATIONS\"]\n",
    "df_2023[\"REVENUE\"] = df_2023[\"COUNT_IN_ID_mod\"]*df_2023[\"IN_DENOMINATIONS\"]"
   ]
  },
  {
   "cell_type": "markdown",
   "id": "bf109e12",
   "metadata": {},
   "source": [
    "## Deleting useless info to reduce entry size"
   ]
  },
  {
   "cell_type": "code",
   "execution_count": 21,
   "id": "30948e10",
   "metadata": {},
   "outputs": [],
   "source": [
    "useful_subscription_types = [-1, 3, 1, 6, 2, 4, 7, 9, 8, 5]"
   ]
  },
  {
   "cell_type": "code",
   "execution_count": 22,
   "id": "cc28598f",
   "metadata": {},
   "outputs": [],
   "source": [
    "df_2022 = df_2022[df_2022[\"IN_SUBSCRIPTION_TYPE\"].isin(useful_subscription_types)]\n",
    "df_2023 = df_2023[df_2023[\"IN_SUBSCRIPTION_TYPE\"].isin(useful_subscription_types)]"
   ]
  },
  {
   "cell_type": "code",
   "execution_count": 23,
   "id": "9ffc2880",
   "metadata": {
    "scrolled": true
   },
   "outputs": [],
   "source": [
    "df_2022 = df_2022.where(df_2022[\"IN_DENOMINATIONS\"]>=5).dropna()\n",
    "df_2023 = df_2023.where(df_2023[\"IN_DENOMINATIONS\"]>=5).dropna()"
   ]
  },
  {
   "cell_type": "markdown",
   "id": "c134d618",
   "metadata": {},
   "source": [
    "## Saving the resulted datasets"
   ]
  },
  {
   "cell_type": "code",
   "execution_count": 24,
   "id": "cd9c9a16",
   "metadata": {},
   "outputs": [],
   "source": [
    "df_2022.to_csv(\"../DATA/prepared/INWI-22.csv\")\n",
    "df_2023.to_csv(\"../DATA/prepared/INWI-23.csv\")"
   ]
  }
 ],
 "metadata": {
  "kernelspec": {
   "display_name": "Python 3 (ipykernel)",
   "language": "python",
   "name": "python3"
  },
  "language_info": {
   "codemirror_mode": {
    "name": "ipython",
    "version": 3
   },
   "file_extension": ".py",
   "mimetype": "text/x-python",
   "name": "python",
   "nbconvert_exporter": "python",
   "pygments_lexer": "ipython3",
   "version": "3.11.5"
  }
 },
 "nbformat": 4,
 "nbformat_minor": 5
}
